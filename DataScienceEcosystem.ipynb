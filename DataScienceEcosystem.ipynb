{
 "cells": [
  {
   "cell_type": "markdown",
   "id": "d63f41b0-e831-411e-a2d7-c27a72b455be",
   "metadata": {},
   "source": [
    "# Data Science Tools and Ecosystem"
   ]
  },
  {
   "cell_type": "markdown",
   "id": "e4bd14d7-4a0f-4711-96c7-ec5b27868af5",
   "metadata": {},
   "source": [
    "# Introduction\n",
    "#### In this notebook, Data Science Tools and Ecosysytem are summarized."
   ]
  },
  {
   "cell_type": "markdown",
   "id": "4ac1973f-3461-45ef-9ec8-d898dd4f7e1d",
   "metadata": {},
   "source": [
    "__Objectives:__\n",
    "   - Tools\n",
    "   - Languages\n",
    "   - Arithmetic\n",
    "   - Lists"
   ]
  },
  {
   "cell_type": "markdown",
   "id": "51642555-c3d7-442a-9ecb-68ac818a9cb0",
   "metadata": {},
   "source": [
    "#### Some of the popular languages that Data Scentists use are:\n",
    "   1. Python\n",
    "   2. SQL\n",
    "   3. R"
   ]
  },
  {
   "cell_type": "markdown",
   "id": "e54ff7be-2eec-4f37-b993-e646bd2479ba",
   "metadata": {},
   "source": [
    "#### Some of the commonly used libraries used by Data Scientists include:\n",
    "   1. Scipy\n",
    "   2. Numpy\n",
    "   3. Pandas"
   ]
  },
  {
   "cell_type": "markdown",
   "id": "4e9e5294-dffb-4679-8731-1e6168e6f619",
   "metadata": {},
   "source": [
    "\n",
    "| Data Science Tools |\n",
    "| -------------------|\n",
    "| Jupyter Notebook   |\n",
    "| GitHub and GitLab  |\n",
    "| RStudio            |\n"
   ]
  },
  {
   "cell_type": "markdown",
   "id": "1f749b65-bf31-4f3e-ade3-b18223be7aae",
   "metadata": {},
   "source": [
    "### Below are a few examples of evaluating arithmetic expressions in Python"
   ]
  },
  {
   "cell_type": "code",
   "execution_count": 1,
   "id": "b298fb61-f57a-4ca9-9a71-81e5b73a6a66",
   "metadata": {},
   "outputs": [
    {
     "data": {
      "text/plain": [
       "17"
      ]
     },
     "execution_count": 1,
     "metadata": {},
     "output_type": "execute_result"
    }
   ],
   "source": [
    "# This is a simple arithmetic expression to multiply then add integers\n",
    "(3*4)+5"
   ]
  },
  {
   "cell_type": "code",
   "execution_count": 3,
   "id": "ddcc15bb-4af3-4ba8-82d6-ae9b0065ce18",
   "metadata": {},
   "outputs": [
    {
     "name": "stdout",
     "output_type": "stream",
     "text": [
      "This will convert 200 minutes to 3.3333333333333335 hours by dividing by 60\n"
     ]
    }
   ],
   "source": [
    "minutes = 200\n",
    "hours = minutes / 60\n",
    "print(f\"This will convert {minutes} minutes to {hours} hours by dividing by 60\")"
   ]
  },
  {
   "cell_type": "markdown",
   "id": "e0f73eb1-47fd-4167-a684-981f4ff49022",
   "metadata": {},
   "source": [
    "## Author\n",
    "   Geoffrey Palmer"
   ]
  },
  {
   "cell_type": "code",
   "execution_count": null,
   "id": "71d433f8-8ab4-4155-b59d-ba0ff18d772d",
   "metadata": {},
   "outputs": [],
   "source": []
  }
 ],
 "metadata": {
  "kernelspec": {
   "display_name": "Python 3 (ipykernel)",
   "language": "python",
   "name": "python3"
  },
  "language_info": {
   "codemirror_mode": {
    "name": "ipython",
    "version": 3
   },
   "file_extension": ".py",
   "mimetype": "text/x-python",
   "name": "python",
   "nbconvert_exporter": "python",
   "pygments_lexer": "ipython3",
   "version": "3.12.8"
  }
 },
 "nbformat": 4,
 "nbformat_minor": 5
}
